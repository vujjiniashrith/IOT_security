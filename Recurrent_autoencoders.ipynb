{
  "cells": [
    {
      "cell_type": "markdown",
      "metadata": {
        "id": "view-in-github",
        "colab_type": "text"
      },
      "source": [
        "<a href=\"https://colab.research.google.com/github/vujjiniashrith/IOT_security/blob/main/Recurrent_autoencoders.ipynb\" target=\"_parent\"><img src=\"https://colab.research.google.com/assets/colab-badge.svg\" alt=\"Open In Colab\"/></a>"
      ]
    },
    {
      "cell_type": "code",
      "execution_count": null,
      "id": "4620da68",
      "metadata": {
        "id": "4620da68"
      },
      "outputs": [],
      "source": [
        "import pandas as pd\n",
        "import numpy as np\n",
        "import matplotlib.pyplot as plt\n",
        "import seaborn as sns"
      ]
    },
    {
      "cell_type": "code",
      "execution_count": null,
      "id": "7d892bd2",
      "metadata": {
        "id": "7d892bd2"
      },
      "outputs": [],
      "source": [
        "from sklearn.impute import KNNImputer\n",
        "from tensorflow import keras\n",
        "from tensorflow.keras.layers import Input, LSTM, RepeatVector, Dense\n",
        "from sklearn.preprocessing import StandardScaler"
      ]
    },
    {
      "cell_type": "code",
      "execution_count": null,
      "id": "be856715",
      "metadata": {
        "id": "be856715"
      },
      "outputs": [],
      "source": [
        "df = pd.read_excel('combined_dataset.xlsx')"
      ]
    },
    {
      "cell_type": "code",
      "execution_count": null,
      "id": "ca801b07",
      "metadata": {
        "id": "ca801b07"
      },
      "outputs": [],
      "source": [
        "columns = df.columns"
      ]
    },
    {
      "cell_type": "code",
      "execution_count": null,
      "id": "7718b61d",
      "metadata": {
        "id": "7718b61d",
        "outputId": "489c2645-4835-4a1c-fb86-4e2577c0adad"
      },
      "outputs": [
        {
          "name": "stdout",
          "output_type": "stream",
          "text": [
            "Index(['SpO2', 'HR', 'PULSE', 'RESP', 'ABP1', 'ABP2', 'ABP3', 'INOP_PLETH',\n",
            "       'INOP_SpO2', 'INOP_RESP', 'INOP_NOISE', 'ALARM'],\n",
            "      dtype='object')\n"
          ]
        }
      ],
      "source": [
        "print(columns)"
      ]
    },
    {
      "cell_type": "code",
      "execution_count": null,
      "id": "2d6549db",
      "metadata": {
        "id": "2d6549db"
      },
      "outputs": [],
      "source": [
        "columns_to_delete = [ 'INOP_PLETH',\n",
        "       'INOP_SpO2', 'INOP_RESP', 'INOP_NOISE', 'ALARM']"
      ]
    },
    {
      "cell_type": "code",
      "execution_count": null,
      "id": "918a4cef",
      "metadata": {
        "id": "918a4cef"
      },
      "outputs": [],
      "source": [
        "df.drop(columns=columns_to_delete, inplace=True)"
      ]
    },
    {
      "cell_type": "code",
      "execution_count": null,
      "id": "3b50124f",
      "metadata": {
        "id": "3b50124f",
        "outputId": "6337fef4-2300-49de-8673-fe50f2a7a2ef"
      },
      "outputs": [
        {
          "name": "stdout",
          "output_type": "stream",
          "text": [
            "Index(['SpO2', 'HR', 'PULSE', 'RESP', 'ABP1', 'ABP2', 'ABP3'], dtype='object')\n"
          ]
        }
      ],
      "source": [
        "print(df.columns)"
      ]
    },
    {
      "cell_type": "code",
      "execution_count": null,
      "id": "838f616f",
      "metadata": {
        "id": "838f616f"
      },
      "outputs": [],
      "source": [
        "df = df.loc[(df != 0).all(axis=1)]"
      ]
    },
    {
      "cell_type": "code",
      "execution_count": null,
      "id": "c4e9ce1e",
      "metadata": {
        "id": "c4e9ce1e",
        "outputId": "cbdb7ce5-2bbe-48eb-8575-41f73aad30f0"
      },
      "outputs": [
        {
          "data": {
            "text/plain": [
              "(79952, 7)"
            ]
          },
          "execution_count": 10,
          "metadata": {},
          "output_type": "execute_result"
        }
      ],
      "source": [
        "df.shape"
      ]
    },
    {
      "cell_type": "code",
      "execution_count": null,
      "id": "649b89fa",
      "metadata": {
        "id": "649b89fa",
        "outputId": "e0c6a780-5c67-48c8-b22b-09b574b3551e"
      },
      "outputs": [
        {
          "data": {
            "text/html": [
              "<div>\n",
              "<style scoped>\n",
              "    .dataframe tbody tr th:only-of-type {\n",
              "        vertical-align: middle;\n",
              "    }\n",
              "\n",
              "    .dataframe tbody tr th {\n",
              "        vertical-align: top;\n",
              "    }\n",
              "\n",
              "    .dataframe thead th {\n",
              "        text-align: right;\n",
              "    }\n",
              "</style>\n",
              "<table border=\"1\" class=\"dataframe\">\n",
              "  <thead>\n",
              "    <tr style=\"text-align: right;\">\n",
              "      <th></th>\n",
              "      <th>SpO2</th>\n",
              "      <th>HR</th>\n",
              "      <th>PULSE</th>\n",
              "      <th>RESP</th>\n",
              "      <th>ABP1</th>\n",
              "      <th>ABP2</th>\n",
              "      <th>ABP3</th>\n",
              "    </tr>\n",
              "  </thead>\n",
              "  <tbody>\n",
              "    <tr>\n",
              "      <th>0</th>\n",
              "      <td>94.0</td>\n",
              "      <td>71.0</td>\n",
              "      <td>71.0</td>\n",
              "      <td>19.0</td>\n",
              "      <td>69.0</td>\n",
              "      <td>113.0</td>\n",
              "      <td>50.0</td>\n",
              "    </tr>\n",
              "    <tr>\n",
              "      <th>1</th>\n",
              "      <td>94.0</td>\n",
              "      <td>71.0</td>\n",
              "      <td>71.0</td>\n",
              "      <td>19.0</td>\n",
              "      <td>69.0</td>\n",
              "      <td>113.0</td>\n",
              "      <td>50.0</td>\n",
              "    </tr>\n",
              "    <tr>\n",
              "      <th>2</th>\n",
              "      <td>94.0</td>\n",
              "      <td>71.0</td>\n",
              "      <td>71.0</td>\n",
              "      <td>17.0</td>\n",
              "      <td>70.0</td>\n",
              "      <td>113.0</td>\n",
              "      <td>51.0</td>\n",
              "    </tr>\n",
              "    <tr>\n",
              "      <th>3</th>\n",
              "      <td>94.0</td>\n",
              "      <td>71.0</td>\n",
              "      <td>71.0</td>\n",
              "      <td>17.0</td>\n",
              "      <td>69.0</td>\n",
              "      <td>113.0</td>\n",
              "      <td>51.0</td>\n",
              "    </tr>\n",
              "    <tr>\n",
              "      <th>4</th>\n",
              "      <td>94.0</td>\n",
              "      <td>71.0</td>\n",
              "      <td>71.0</td>\n",
              "      <td>17.0</td>\n",
              "      <td>69.0</td>\n",
              "      <td>113.0</td>\n",
              "      <td>50.0</td>\n",
              "    </tr>\n",
              "  </tbody>\n",
              "</table>\n",
              "</div>"
            ],
            "text/plain": [
              "   SpO2    HR  PULSE  RESP  ABP1   ABP2  ABP3\n",
              "0  94.0  71.0   71.0  19.0  69.0  113.0  50.0\n",
              "1  94.0  71.0   71.0  19.0  69.0  113.0  50.0\n",
              "2  94.0  71.0   71.0  17.0  70.0  113.0  51.0\n",
              "3  94.0  71.0   71.0  17.0  69.0  113.0  51.0\n",
              "4  94.0  71.0   71.0  17.0  69.0  113.0  50.0"
            ]
          },
          "execution_count": 11,
          "metadata": {},
          "output_type": "execute_result"
        }
      ],
      "source": [
        "df.head()"
      ]
    },
    {
      "cell_type": "code",
      "execution_count": null,
      "id": "7145cb4e",
      "metadata": {
        "id": "7145cb4e"
      },
      "outputs": [],
      "source": [
        "df.dropna(inplace=True)"
      ]
    },
    {
      "cell_type": "code",
      "execution_count": null,
      "id": "c8a3baa0",
      "metadata": {
        "id": "c8a3baa0",
        "outputId": "d6d19c1b-5484-4572-a752-2ac43f6a3f51"
      },
      "outputs": [
        {
          "data": {
            "text/plain": [
              "[<matplotlib.lines.Line2D at 0x27d53ed30d0>]"
            ]
          },
          "execution_count": 13,
          "metadata": {},
          "output_type": "execute_result"
        },
        {
          "data": {
            "image/png": "[encoded data removed]",
            "text/plain": [
              "<Figure size 640x480 with 1 Axes>"
            ]
          },
          "metadata": {},
          "output_type": "display_data"
        }
      ],
      "source": [
        "plt.plot(df.HR)"
      ]
    },
    {
      "cell_type": "code",
      "execution_count": null,
      "id": "62aa9630",
      "metadata": {
        "id": "62aa9630"
      },
      "outputs": [],
      "source": [
        "null_counts = df.isnull().sum()"
      ]
    },
    {
      "cell_type": "code",
      "execution_count": null,
      "id": "0fe93764",
      "metadata": {
        "id": "0fe93764",
        "outputId": "089c9e5e-4db0-4588-e58a-2dc8a68f58fb"
      },
      "outputs": [
        {
          "data": {
            "text/plain": [
              "SpO2     0\n",
              "HR       0\n",
              "PULSE    0\n",
              "RESP     0\n",
              "ABP1     0\n",
              "ABP2     0\n",
              "ABP3     0\n",
              "dtype: int64"
            ]
          },
          "execution_count": 15,
          "metadata": {},
          "output_type": "execute_result"
        }
      ],
      "source": [
        "null_counts"
      ]
    },
    {
      "cell_type": "code",
      "execution_count": null,
      "id": "9d12df29",
      "metadata": {
        "id": "9d12df29"
      },
      "outputs": [],
      "source": [
        "imputer = KNNImputer(n_neighbors = 3)"
      ]
    },
    {
      "cell_type": "code",
      "execution_count": null,
      "id": "95126c3a",
      "metadata": {
        "id": "95126c3a"
      },
      "outputs": [],
      "source": [
        "#df_imputed = pd.DataFrame(imputer.fit_transform(df), columns=df.columns)"
      ]
    },
    {
      "cell_type": "code",
      "execution_count": null,
      "id": "9a4d043a",
      "metadata": {
        "id": "9a4d043a"
      },
      "outputs": [],
      "source": [
        "#null_counts = df_imputed.isnull().sum()"
      ]
    },
    {
      "cell_type": "code",
      "execution_count": null,
      "id": "09c5b090",
      "metadata": {
        "id": "09c5b090",
        "outputId": "dc8c352f-cabe-4df3-d298-70741dab5c0d"
      },
      "outputs": [
        {
          "name": "stdout",
          "output_type": "stream",
          "text": [
            "SpO2     0\n",
            "HR       0\n",
            "PULSE    0\n",
            "RESP     0\n",
            "ABP1     0\n",
            "ABP2     0\n",
            "ABP3     0\n",
            "dtype: int64\n"
          ]
        }
      ],
      "source": [
        "print(null_counts)"
      ]
    },
    {
      "cell_type": "code",
      "execution_count": null,
      "id": "17c7f645",
      "metadata": {
        "id": "17c7f645",
        "outputId": "42a68823-0d5d-403c-9885-55744b34015f"
      },
      "outputs": [
        {
          "data": {
            "text/plain": [
              "[<matplotlib.lines.Line2D at 0x27d554fe700>]"
            ]
          },
          "execution_count": 20,
          "metadata": {},
          "output_type": "execute_result"
        },
        {
          "data": {
            "image/png": "[encoded data removed]",
            "text/plain": [
              "<Figure size 640x480 with 1 Axes>"
            ]
          },
          "metadata": {},
          "output_type": "display_data"
        }
      ],
      "source": [
        "plt.plot(df.HR)"
      ]
    },
    {
      "cell_type": "code",
      "execution_count": null,
      "id": "6267adf5",
      "metadata": {
        "id": "6267adf5",
        "outputId": "5e323b71-a216-4c76-9e58-b6c3bbf81582"
      },
      "outputs": [
        {
          "data": {
            "text/plain": [
              "<AxesSubplot:>"
            ]
          },
          "execution_count": 21,
          "metadata": {},
          "output_type": "execute_result"
        },
        {
          "data": {
            "image/png": "[encoded data removed]",
            "text/plain": [
              "<Figure size 640x480 with 1 Axes>"
            ]
          },
          "metadata": {},
          "output_type": "display_data"
        }
      ],
      "source": [
        "df.plot(ylim=(0, 500), kind='line')"
      ]
    },
    {
      "cell_type": "code",
      "execution_count": null,
      "id": "6837882e",
      "metadata": {
        "id": "6837882e"
      },
      "outputs": [],
      "source": [
        "scaler = StandardScaler()"
      ]
    },
    {
      "cell_type": "code",
      "execution_count": null,
      "id": "6d542d05",
      "metadata": {
        "id": "6d542d05"
      },
      "outputs": [],
      "source": []
    },
    {
      "cell_type": "code",
      "execution_count": null,
      "id": "70f5eb0b",
      "metadata": {
        "id": "70f5eb0b"
      },
      "outputs": [],
      "source": [
        "data = scaler.fit_transform(df)"
      ]
    },
    {
      "cell_type": "code",
      "execution_count": null,
      "id": "c8cd793f",
      "metadata": {
        "id": "c8cd793f"
      },
      "outputs": [],
      "source": [
        "data1 = pd.DataFrame(data)"
      ]
    },
    {
      "cell_type": "code",
      "execution_count": null,
      "id": "bc2bf712",
      "metadata": {
        "id": "bc2bf712",
        "outputId": "d406af6c-b0d4-47e0-85dd-47c68f65eb16"
      },
      "outputs": [
        {
          "data": {
            "text/html": [
              "<div>\n",
              "<style scoped>\n",
              "    .dataframe tbody tr th:only-of-type {\n",
              "        vertical-align: middle;\n",
              "    }\n",
              "\n",
              "    .dataframe tbody tr th {\n",
              "        vertical-align: top;\n",
              "    }\n",
              "\n",
              "    .dataframe thead th {\n",
              "        text-align: right;\n",
              "    }\n",
              "</style>\n",
              "<table border=\"1\" class=\"dataframe\">\n",
              "  <thead>\n",
              "    <tr style=\"text-align: right;\">\n",
              "      <th></th>\n",
              "      <th>0</th>\n",
              "      <th>1</th>\n",
              "      <th>2</th>\n",
              "      <th>3</th>\n",
              "      <th>4</th>\n",
              "      <th>5</th>\n",
              "      <th>6</th>\n",
              "    </tr>\n",
              "  </thead>\n",
              "  <tbody>\n",
              "    <tr>\n",
              "      <th>0</th>\n",
              "      <td>0.326212</td>\n",
              "      <td>-0.308918</td>\n",
              "      <td>-0.212088</td>\n",
              "      <td>1.040896</td>\n",
              "      <td>-0.815191</td>\n",
              "      <td>-0.299175</td>\n",
              "      <td>-0.836360</td>\n",
              "    </tr>\n",
              "    <tr>\n",
              "      <th>1</th>\n",
              "      <td>0.326212</td>\n",
              "      <td>-0.308918</td>\n",
              "      <td>-0.212088</td>\n",
              "      <td>1.040896</td>\n",
              "      <td>-0.815191</td>\n",
              "      <td>-0.299175</td>\n",
              "      <td>-0.836360</td>\n",
              "    </tr>\n",
              "    <tr>\n",
              "      <th>2</th>\n",
              "      <td>0.326212</td>\n",
              "      <td>-0.308918</td>\n",
              "      <td>-0.212088</td>\n",
              "      <td>0.478651</td>\n",
              "      <td>-0.729935</td>\n",
              "      <td>-0.299175</td>\n",
              "      <td>-0.710017</td>\n",
              "    </tr>\n",
              "    <tr>\n",
              "      <th>3</th>\n",
              "      <td>0.326212</td>\n",
              "      <td>-0.308918</td>\n",
              "      <td>-0.212088</td>\n",
              "      <td>0.478651</td>\n",
              "      <td>-0.815191</td>\n",
              "      <td>-0.299175</td>\n",
              "      <td>-0.710017</td>\n",
              "    </tr>\n",
              "    <tr>\n",
              "      <th>4</th>\n",
              "      <td>0.326212</td>\n",
              "      <td>-0.308918</td>\n",
              "      <td>-0.212088</td>\n",
              "      <td>0.478651</td>\n",
              "      <td>-0.815191</td>\n",
              "      <td>-0.299175</td>\n",
              "      <td>-0.836360</td>\n",
              "    </tr>\n",
              "  </tbody>\n",
              "</table>\n",
              "</div>"
            ],
            "text/plain": [
              "          0         1         2         3         4         5         6\n",
              "0  0.326212 -0.308918 -0.212088  1.040896 -0.815191 -0.299175 -0.836360\n",
              "1  0.326212 -0.308918 -0.212088  1.040896 -0.815191 -0.299175 -0.836360\n",
              "2  0.326212 -0.308918 -0.212088  0.478651 -0.729935 -0.299175 -0.710017\n",
              "3  0.326212 -0.308918 -0.212088  0.478651 -0.815191 -0.299175 -0.710017\n",
              "4  0.326212 -0.308918 -0.212088  0.478651 -0.815191 -0.299175 -0.836360"
            ]
          },
          "execution_count": 52,
          "metadata": {},
          "output_type": "execute_result"
        }
      ],
      "source": []
    },
    {
      "cell_type": "code",
      "execution_count": null,
      "id": "355ab96c",
      "metadata": {
        "id": "355ab96c"
      },
      "outputs": [],
      "source": [
        "lookback = 200\n",
        "sequences = []"
      ]
    },
    {
      "cell_type": "code",
      "execution_count": null,
      "id": "a1fd2257",
      "metadata": {
        "id": "a1fd2257"
      },
      "outputs": [],
      "source": [
        "for i in range(len(data)-lookback+1):\n",
        "    sequence = data[i:i+lookback]\n",
        "    sequences.append(sequence)"
      ]
    },
    {
      "cell_type": "code",
      "execution_count": null,
      "id": "8dc23241",
      "metadata": {
        "id": "8dc23241"
      },
      "outputs": [],
      "source": [
        "sequences = np.array(sequences)"
      ]
    },
    {
      "cell_type": "code",
      "execution_count": null,
      "id": "a5846618",
      "metadata": {
        "id": "a5846618"
      },
      "outputs": [],
      "source": [
        "input_shape = (lookback,7)\n",
        "latent_dim = 10"
      ]
    },
    {
      "cell_type": "code",
      "execution_count": null,
      "id": "8fabc75b",
      "metadata": {
        "id": "8fabc75b"
      },
      "outputs": [],
      "source": [
        "input_layer = Input(shape = input_shape)\n",
        "encoder = LSTM(latent_dim)(input_layer)\n",
        "\n",
        "decoder = RepeatVector(lookback)(encoder)\n",
        "decoder = LSTM(7, return_sequences=True)(decoder)\n",
        "\n",
        "autoencoder = keras.Model(input_layer, decoder)\n",
        "autoencoder.compile(optimizer ='adam',loss = 'mean_squared_error')"
      ]
    },
    {
      "cell_type": "code",
      "execution_count": null,
      "id": "9d6dd005",
      "metadata": {
        "id": "9d6dd005",
        "outputId": "fc605c78-da9e-4f29-c6fc-36c35b046225"
      },
      "outputs": [
        {
          "name": "stdout",
          "output_type": "stream",
          "text": [
            "Model: \"model_2\"\n",
            "_________________________________________________________________\n",
            " Layer (type)                Output Shape              Param #   \n",
            "=================================================================\n",
            " input_3 (InputLayer)        [(None, 200, 7)]          0         \n",
            "                                                                 \n",
            " lstm_4 (LSTM)               (None, 10)                720       \n",
            "                                                                 \n",
            " repeat_vector_2 (RepeatVect  (None, 200, 10)          0         \n",
            " or)                                                             \n",
            "                                                                 \n",
            " lstm_5 (LSTM)               (None, 200, 7)            504       \n",
            "                                                                 \n",
            "=================================================================\n",
            "Total params: 1,224\n",
            "Trainable params: 1,224\n",
            "Non-trainable params: 0\n",
            "_________________________________________________________________\n"
          ]
        }
      ],
      "source": [
        "autoencoder.summary()"
      ]
    },
    {
      "cell_type": "code",
      "execution_count": null,
      "id": "95ed5178",
      "metadata": {
        "id": "95ed5178",
        "outputId": "9519c517-71fa-4d8e-f4c7-61f4e717f853"
      },
      "outputs": [
        {
          "name": "stdout",
          "output_type": "stream",
          "text": [
            "Epoch 1/10\n",
            "235/235 [==============================] - 29s 122ms/step - loss: 0.4902\n",
            "Epoch 2/10\n",
            "235/235 [==============================] - 37s 156ms/step - loss: 0.3915\n",
            "Epoch 3/10\n",
            " 72/235 [========>.....................] - ETA: 29s - loss: 0.3621"
          ]
        }
      ],
      "source": [
        "autoencoder.fit(sequences, sequences, epochs=10, batch_size=320)"
      ]
    },
    {
      "cell_type": "code",
      "execution_count": null,
      "id": "74966d7e",
      "metadata": {
        "id": "74966d7e"
      },
      "outputs": [],
      "source": [
        "decoded_data = autoencoder.predict(sequences)\n",
        "encoded_data = autoencoder.predict(decoded_data)"
      ]
    },
    {
      "cell_type": "code",
      "execution_count": null,
      "id": "9f961d88",
      "metadata": {
        "id": "9f961d88",
        "outputId": "02315d7f-96ea-4487-e7e0-26656414420e"
      },
      "outputs": [
        {
          "data": {
            "text/plain": [
              "(75181, 200, 7)"
            ]
          },
          "execution_count": 65,
          "metadata": {},
          "output_type": "execute_result"
        }
      ],
      "source": [
        "encoded_data.shape"
      ]
    },
    {
      "cell_type": "code",
      "execution_count": null,
      "id": "566b106d",
      "metadata": {
        "id": "566b106d"
      },
      "outputs": [],
      "source": [
        "last_values = encoded_data[:, -1, :]"
      ]
    },
    {
      "cell_type": "code",
      "execution_count": null,
      "id": "0c4345ab",
      "metadata": {
        "id": "0c4345ab"
      },
      "outputs": [],
      "source": [
        "reshaped_data = last_values.reshape(-1, last_values.shape[-1])"
      ]
    },
    {
      "cell_type": "code",
      "execution_count": null,
      "id": "9edaf01b",
      "metadata": {
        "id": "9edaf01b",
        "outputId": "cc2fc566-820d-45f5-d868-43eb63c54721"
      },
      "outputs": [
        {
          "data": {
            "text/plain": [
              "(75181, 7)"
            ]
          },
          "execution_count": 68,
          "metadata": {},
          "output_type": "execute_result"
        }
      ],
      "source": [
        "reshaped_data.shape"
      ]
    },
    {
      "cell_type": "code",
      "execution_count": null,
      "id": "042a3b98",
      "metadata": {
        "id": "042a3b98"
      },
      "outputs": [],
      "source": [
        "original_data = scaler.inverse_transform(reshaped_data)"
      ]
    },
    {
      "cell_type": "code",
      "execution_count": null,
      "id": "111d42c9",
      "metadata": {
        "id": "111d42c9"
      },
      "outputs": [],
      "source": [
        "original_df = pd.DataFrame(original_data, columns=df.columns)"
      ]
    },
    {
      "cell_type": "code",
      "execution_count": null,
      "id": "d77dd607",
      "metadata": {
        "id": "d77dd607",
        "outputId": "57760370-dae1-4315-cae2-c88405aee731"
      },
      "outputs": [
        {
          "data": {
            "text/html": [
              "<div>\n",
              "<style scoped>\n",
              "    .dataframe tbody tr th:only-of-type {\n",
              "        vertical-align: middle;\n",
              "    }\n",
              "\n",
              "    .dataframe tbody tr th {\n",
              "        vertical-align: top;\n",
              "    }\n",
              "\n",
              "    .dataframe thead th {\n",
              "        text-align: right;\n",
              "    }\n",
              "</style>\n",
              "<table border=\"1\" class=\"dataframe\">\n",
              "  <thead>\n",
              "    <tr style=\"text-align: right;\">\n",
              "      <th></th>\n",
              "      <th>SpO2</th>\n",
              "      <th>HR</th>\n",
              "      <th>PULSE</th>\n",
              "      <th>RESP</th>\n",
              "      <th>ABP1</th>\n",
              "      <th>ABP2</th>\n",
              "      <th>ABP3</th>\n",
              "    </tr>\n",
              "  </thead>\n",
              "  <tbody>\n",
              "    <tr>\n",
              "      <th>0</th>\n",
              "      <td>96.104271</td>\n",
              "      <td>71.853485</td>\n",
              "      <td>70.667633</td>\n",
              "      <td>14.009734</td>\n",
              "      <td>78.833229</td>\n",
              "      <td>121.275589</td>\n",
              "      <td>55.781441</td>\n",
              "    </tr>\n",
              "    <tr>\n",
              "      <th>1</th>\n",
              "      <td>96.105347</td>\n",
              "      <td>71.856590</td>\n",
              "      <td>70.667130</td>\n",
              "      <td>14.009605</td>\n",
              "      <td>78.834404</td>\n",
              "      <td>121.250496</td>\n",
              "      <td>55.791618</td>\n",
              "    </tr>\n",
              "    <tr>\n",
              "      <th>2</th>\n",
              "      <td>96.103256</td>\n",
              "      <td>71.915581</td>\n",
              "      <td>70.759140</td>\n",
              "      <td>13.966429</td>\n",
              "      <td>78.929855</td>\n",
              "      <td>121.500511</td>\n",
              "      <td>55.882908</td>\n",
              "    </tr>\n",
              "    <tr>\n",
              "      <th>3</th>\n",
              "      <td>96.102226</td>\n",
              "      <td>71.920639</td>\n",
              "      <td>70.766159</td>\n",
              "      <td>13.968922</td>\n",
              "      <td>78.931206</td>\n",
              "      <td>121.517494</td>\n",
              "      <td>55.883526</td>\n",
              "    </tr>\n",
              "    <tr>\n",
              "      <th>4</th>\n",
              "      <td>96.102165</td>\n",
              "      <td>71.923508</td>\n",
              "      <td>70.769363</td>\n",
              "      <td>13.969279</td>\n",
              "      <td>78.933975</td>\n",
              "      <td>121.519058</td>\n",
              "      <td>55.889530</td>\n",
              "    </tr>\n",
              "  </tbody>\n",
              "</table>\n",
              "</div>"
            ],
            "text/plain": [
              "        SpO2         HR      PULSE       RESP       ABP1        ABP2  \\\n",
              "0  96.104271  71.853485  70.667633  14.009734  78.833229  121.275589   \n",
              "1  96.105347  71.856590  70.667130  14.009605  78.834404  121.250496   \n",
              "2  96.103256  71.915581  70.759140  13.966429  78.929855  121.500511   \n",
              "3  96.102226  71.920639  70.766159  13.968922  78.931206  121.517494   \n",
              "4  96.102165  71.923508  70.769363  13.969279  78.933975  121.519058   \n",
              "\n",
              "        ABP3  \n",
              "0  55.781441  \n",
              "1  55.791618  \n",
              "2  55.882908  \n",
              "3  55.883526  \n",
              "4  55.889530  "
            ]
          },
          "execution_count": 71,
          "metadata": {},
          "output_type": "execute_result"
        }
      ],
      "source": [
        "original_df.head()"
      ]
    },
    {
      "cell_type": "code",
      "execution_count": null,
      "id": "be4464a2",
      "metadata": {
        "id": "be4464a2",
        "outputId": "d0fa47b3-b684-4635-8967-608190bbb87b"
      },
      "outputs": [
        {
          "data": {
            "text/plain": [
              "[<matplotlib.lines.Line2D at 0x27d008ac100>]"
            ]
          },
          "execution_count": 76,
          "metadata": {},
          "output_type": "execute_result"
        },
        {
          "data": {
            "image/png": "[encoded data removed]",
            "text/plain": [
              "<Figure size 640x480 with 1 Axes>"
            ]
          },
          "metadata": {},
          "output_type": "display_data"
        }
      ],
      "source": [
        "plt.plot(df.SpO2[:1000])\n",
        "plt.plot(original_df.SpO2[:1000])"
      ]
    },
    {
      "cell_type": "code",
      "execution_count": null,
      "id": "bde866ad",
      "metadata": {
        "id": "bde866ad"
      },
      "outputs": [],
      "source": []
    }
  ],
  "metadata": {
    "kernelspec": {
      "display_name": "Python 3 (ipykernel)",
      "language": "python",
      "name": "python3"
    },
    "language_info": {
      "codemirror_mode": {
        "name": "ipython",
        "version": 3
      },
      "file_extension": ".py",
      "mimetype": "text/x-python",
      "name": "python",
      "nbconvert_exporter": "python",
      "pygments_lexer": "ipython3",
      "version": "3.9.13"
    },
    "colab": {
      "provenance": [],
      "include_colab_link": true
    }
  },
  "nbformat": 4,
  "nbformat_minor": 5
}